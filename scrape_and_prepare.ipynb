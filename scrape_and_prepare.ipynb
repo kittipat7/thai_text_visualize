{
 "cells": [
  {
   "attachments": {},
   "cell_type": "markdown",
   "metadata": {},
   "source": [
    "## ทำการ web scraping"
   ]
  },
  {
   "cell_type": "code",
   "execution_count": null,
   "metadata": {},
   "outputs": [
    {
     "name": "stdout",
     "output_type": "stream",
     "text": [
      "0 20\n",
      "10 20\n",
      "20 20\n",
      "30 20\n",
      "40 20\n",
      "50 20\n",
      "60 20\n",
      "70 4\n"
     ]
    }
   ],
   "source": [
    "from selenium import webdriver\n",
    "from selenium.webdriver.chrome.options import Options\n",
    "from selenium.webdriver.common.by import By\n",
    "import time\n",
    "\n",
    "def driversetup():\n",
    "    options = webdriver.ChromeOptions()\n",
    "    #run Selenium in headless mode\n",
    "    options.add_argument('--headless')\n",
    "    options.add_argument('--no-sandbox')\n",
    "    #overcome limited resource problems\n",
    "    options.add_argument('--disable-dev-shm-usage')\n",
    "    options.add_argument(\"lang=en\")\n",
    "    #open Browser in maximized mode\n",
    "    options.add_argument(\"start-maximized\")\n",
    "    #disable infobars\n",
    "    options.add_argument(\"disable-infobars\")\n",
    "    #disable extension\n",
    "    options.add_argument(\"--disable-extensions\")\n",
    "    options.add_argument(\"--incognito\")\n",
    "    options.add_argument(\"--disable-blink-features=AutomationControlled\")\n",
    "    \n",
    "    driver = webdriver.Chrome(options=options)\n",
    "\n",
    "    driver.execute_script(\"Object.defineProperty(navigator, 'webdriver', {get: () => undefined});\")\n",
    "\n",
    "    return driver\n",
    "# driver set uo\n",
    "driver = driversetup()\n",
    "# ดึง comment มาเก็บเป็น list ใน review\n",
    "reviews = []\n",
    "for i in range(0,80,10):\n",
    "    driver.get(\"https://th.tripadvisor.com/Attraction_Review-g293919-d9650315-Reviews-or\"+str(i)+\"-Jomtien_Beach_Night_Market-Pattaya_Chonburi_Province.html\")\n",
    "    print(i, end=\" \")\n",
    "    time.sleep(5)\n",
    "    lis_reviews = driver.find_elements(By.CLASS_NAME, \"yCeTE\")[0:]\n",
    "    print(len(lis_reviews))\n",
    "    for review in lis_reviews:\n",
    "        reviews.append(review.text)"
   ]
  },
  {
   "cell_type": "code",
   "execution_count": 9,
   "metadata": {},
   "outputs": [
    {
     "data": {
      "text/plain": [
       "144"
      ]
     },
     "execution_count": 9,
     "metadata": {},
     "output_type": "execute_result"
    }
   ],
   "source": [
    "len(reviews)"
   ]
  },
  {
   "attachments": {},
   "cell_type": "markdown",
   "metadata": {},
   "source": [
    "## สร้าง datframe"
   ]
  },
  {
   "cell_type": "code",
   "execution_count": 10,
   "metadata": {},
   "outputs": [],
   "source": [
    "import pandas as pd\n",
    "df = pd.DataFrame(reviews, columns=[\"review\"])"
   ]
  },
  {
   "cell_type": "code",
   "execution_count": 12,
   "metadata": {},
   "outputs": [
    {
     "name": "stdout",
     "output_type": "stream",
     "text": [
      "<class 'pandas.core.frame.DataFrame'>\n",
      "RangeIndex: 144 entries, 0 to 143\n",
      "Data columns (total 1 columns):\n",
      " #   Column  Non-Null Count  Dtype \n",
      "---  ------  --------------  ----- \n",
      " 0   review  144 non-null    object\n",
      "dtypes: object(1)\n",
      "memory usage: 1.2+ KB\n"
     ]
    }
   ],
   "source": [
    "df.info()"
   ]
  },
  {
   "cell_type": "code",
   "execution_count": 11,
   "metadata": {},
   "outputs": [
    {
     "data": {
      "text/html": [
       "<div>\n",
       "<style scoped>\n",
       "    .dataframe tbody tr th:only-of-type {\n",
       "        vertical-align: middle;\n",
       "    }\n",
       "\n",
       "    .dataframe tbody tr th {\n",
       "        vertical-align: top;\n",
       "    }\n",
       "\n",
       "    .dataframe thead th {\n",
       "        text-align: right;\n",
       "    }\n",
       "</style>\n",
       "<table border=\"1\" class=\"dataframe\">\n",
       "  <thead>\n",
       "    <tr style=\"text-align: right;\">\n",
       "      <th></th>\n",
       "      <th>review</th>\n",
       "    </tr>\n",
       "  </thead>\n",
       "  <tbody>\n",
       "    <tr>\n",
       "      <th>0</th>\n",
       "      <td>Pattaya for eat</td>\n",
       "    </tr>\n",
       "    <tr>\n",
       "      <th>1</th>\n",
       "      <td>ที่นี่ติดชายหาดเลย มีบาร์ให้นั่งกินอาหารมองเห็...</td>\n",
       "    </tr>\n",
       "    <tr>\n",
       "      <th>2</th>\n",
       "      <td>E</td>\n",
       "    </tr>\n",
       "    <tr>\n",
       "      <th>3</th>\n",
       "      <td>ที่นี่ถ้า5ทุ่มเป๊ะปิดเลย แถมยามยังมาไล่แบบกินเ...</td>\n",
       "    </tr>\n",
       "    <tr>\n",
       "      <th>4</th>\n",
       "      <td>ตลาดกลางคืน ริมชายหาด สินค้าหลากหลาย</td>\n",
       "    </tr>\n",
       "  </tbody>\n",
       "</table>\n",
       "</div>"
      ],
      "text/plain": [
       "                                              review\n",
       "0                                    Pattaya for eat\n",
       "1  ที่นี่ติดชายหาดเลย มีบาร์ให้นั่งกินอาหารมองเห็...\n",
       "2                                                  E\n",
       "3  ที่นี่ถ้า5ทุ่มเป๊ะปิดเลย แถมยามยังมาไล่แบบกินเ...\n",
       "4               ตลาดกลางคืน ริมชายหาด สินค้าหลากหลาย"
      ]
     },
     "execution_count": 11,
     "metadata": {},
     "output_type": "execute_result"
    }
   ],
   "source": [
    "df.head()"
   ]
  },
  {
   "attachments": {},
   "cell_type": "markdown",
   "metadata": {},
   "source": [
    "## preprocess_text (Normalize, Word Tokenize, Remove stopwords,  Remove any non-Thai characters)"
   ]
  },
  {
   "cell_type": "code",
   "execution_count": 15,
   "metadata": {},
   "outputs": [],
   "source": [
    "from pythainlp import corpus\n",
    "from pythainlp.util import normalize\n",
    "from collections import Counter\n",
    "import deepcut"
   ]
  },
  {
   "cell_type": "code",
   "execution_count": 16,
   "metadata": {},
   "outputs": [],
   "source": [
    "def preprocess_text(text):\n",
    "    # Normalize the text\n",
    "    normalized_text = normalize(text)\n",
    "    # Tokenize the normalized text into words using deepcut\n",
    "    words = deepcut.tokenize(normalized_text)\n",
    "    # Remove any stopwords\n",
    "    words = [word for word in words if word not in corpus.thai_stopwords()]\n",
    "    # Remove any non-Thai characters\n",
    "    thai_words = [word for word in words if all(c >= 'ก' and c <= '๛' for c in word)]\n",
    "    return thai_words"
   ]
  },
  {
   "cell_type": "code",
   "execution_count": 17,
   "metadata": {},
   "outputs": [
    {
     "name": "stdout",
     "output_type": "stream",
     "text": [
      "1/1 [==============================] - 1s 744ms/step\n",
      "5/5 [==============================] - 0s 16ms/step\n",
      "1/1 [==============================] - 0s 59ms/step\n",
      "6/6 [==============================] - 0s 14ms/step\n",
      "2/2 [==============================] - 0s 18ms/step\n",
      "6/6 [==============================] - 0s 18ms/step\n",
      "2/2 [==============================] - 0s 15ms/step\n",
      "10/10 [==============================] - 0s 7ms/step\n",
      "1/1 [==============================] - 0s 65ms/step\n",
      "4/4 [==============================] - 0s 15ms/step\n",
      "1/1 [==============================] - 0s 67ms/step\n",
      "4/4 [==============================] - 0s 11ms/step\n",
      "1/1 [==============================] - 0s 45ms/step\n",
      "12/12 [==============================] - 0s 10ms/step\n",
      "1/1 [==============================] - 0s 41ms/step\n",
      "5/5 [==============================] - 0s 6ms/step\n",
      "1/1 [==============================] - 0s 42ms/step\n",
      "9/9 [==============================] - 0s 6ms/step\n",
      "1/1 [==============================] - 0s 48ms/step\n",
      "8/8 [==============================] - 0s 8ms/step\n",
      "1/1 [==============================] - 0s 40ms/step\n",
      "7/7 [==============================] - 0s 9ms/step\n",
      "1/1 [==============================] - 0s 45ms/step\n",
      "8/8 [==============================] - 0s 6ms/step\n",
      "1/1 [==============================] - 0s 37ms/step\n",
      "15/15 [==============================] - 0s 7ms/step\n",
      "1/1 [==============================] - 0s 43ms/step\n",
      "6/6 [==============================] - 0s 5ms/step\n",
      "1/1 [==============================] - 0s 36ms/step\n",
      "4/4 [==============================] - 0s 6ms/step\n",
      "1/1 [==============================] - 0s 39ms/step\n",
      "8/8 [==============================] - 0s 6ms/step\n",
      "1/1 [==============================] - 0s 39ms/step\n",
      "8/8 [==============================] - 0s 6ms/step\n",
      "1/1 [==============================] - 0s 36ms/step\n",
      "13/13 [==============================] - 0s 6ms/step\n",
      "1/1 [==============================] - 0s 44ms/step\n",
      "13/13 [==============================] - 0s 5ms/step\n",
      "2/2 [==============================] - 0s 6ms/step\n",
      "14/14 [==============================] - 0s 5ms/step\n",
      "1/1 [==============================] - 0s 45ms/step\n",
      "6/6 [==============================] - 0s 10ms/step\n",
      "1/1 [==============================] - 0s 46ms/step\n",
      "6/6 [==============================] - 0s 6ms/step\n",
      "1/1 [==============================] - 0s 38ms/step\n",
      "7/7 [==============================] - 0s 7ms/step\n",
      "1/1 [==============================] - 0s 65ms/step\n",
      "9/9 [==============================] - 0s 11ms/step\n",
      "2/2 [==============================] - 0s 7ms/step\n",
      "13/13 [==============================] - 0s 8ms/step\n",
      "1/1 [==============================] - 0s 47ms/step\n",
      "7/7 [==============================] - 0s 11ms/step\n",
      "2/2 [==============================] - 0s 10ms/step\n",
      "7/7 [==============================] - 0s 12ms/step\n",
      "1/1 [==============================] - 0s 44ms/step\n",
      "4/4 [==============================] - 0s 15ms/step\n",
      "1/1 [==============================] - 0s 86ms/step\n",
      "4/4 [==============================] - 0s 14ms/step\n",
      "1/1 [==============================] - 0s 63ms/step\n",
      "8/8 [==============================] - 0s 20ms/step\n",
      "1/1 [==============================] - 0s 123ms/step\n",
      "6/6 [==============================] - 0s 37ms/step\n",
      "1/1 [==============================] - 0s 56ms/step\n",
      "6/6 [==============================] - 0s 7ms/step\n",
      "1/1 [==============================] - 0s 44ms/step\n",
      "12/12 [==============================] - 0s 10ms/step\n",
      "1/1 [==============================] - 0s 48ms/step\n",
      "9/9 [==============================] - 0s 7ms/step\n",
      "1/1 [==============================] - 0s 70ms/step\n",
      "7/7 [==============================] - 0s 11ms/step\n",
      "1/1 [==============================] - 0s 82ms/step\n",
      "7/7 [==============================] - 0s 16ms/step\n",
      "2/2 [==============================] - 0s 12ms/step\n",
      "23/23 [==============================] - 0s 10ms/step\n",
      "1/1 [==============================] - 0s 56ms/step\n",
      "5/5 [==============================] - 0s 10ms/step\n",
      "1/1 [==============================] - 0s 71ms/step\n",
      "6/6 [==============================] - 0s 13ms/step\n",
      "1/1 [==============================] - 0s 45ms/step\n",
      "5/5 [==============================] - 0s 7ms/step\n",
      "2/2 [==============================] - 0s 7ms/step\n",
      "6/6 [==============================] - 0s 8ms/step\n",
      "1/1 [==============================] - 0s 52ms/step\n",
      "7/7 [==============================] - 0s 8ms/step\n",
      "3/3 [==============================] - 0s 12ms/step\n",
      "23/23 [==============================] - 1s 33ms/step\n",
      "1/1 [==============================] - 0s 50ms/step\n",
      "6/6 [==============================] - 0s 9ms/step\n",
      "1/1 [==============================] - 0s 49ms/step\n",
      "7/7 [==============================] - 0s 6ms/step\n",
      "1/1 [==============================] - 0s 38ms/step\n",
      "15/15 [==============================] - 0s 6ms/step\n",
      "1/1 [==============================] - 0s 47ms/step\n",
      "14/14 [==============================] - 0s 5ms/step\n",
      "1/1 [==============================] - 0s 35ms/step\n",
      "5/5 [==============================] - 0s 5ms/step\n",
      "1/1 [==============================] - 0s 37ms/step\n",
      "22/22 [==============================] - 0s 5ms/step\n",
      "1/1 [==============================] - 0s 40ms/step\n",
      "3/3 [==============================] - 0s 6ms/step\n",
      "1/1 [==============================] - 0s 35ms/step\n",
      "4/4 [==============================] - 0s 6ms/step\n",
      "1/1 [==============================] - 0s 40ms/step\n",
      "9/9 [==============================] - 0s 5ms/step\n",
      "1/1 [==============================] - 0s 39ms/step\n",
      "5/5 [==============================] - 0s 5ms/step\n",
      "1/1 [==============================] - 0s 41ms/step\n",
      "6/6 [==============================] - 0s 6ms/step\n",
      "1/1 [==============================] - 0s 39ms/step\n",
      "8/8 [==============================] - 0s 7ms/step\n",
      "2/2 [==============================] - 0s 6ms/step\n",
      "12/12 [==============================] - 0s 6ms/step\n",
      "1/1 [==============================] - 0s 40ms/step\n",
      "3/3 [==============================] - 0s 6ms/step\n",
      "1/1 [==============================] - 0s 38ms/step\n",
      "6/6 [==============================] - 0s 6ms/step\n",
      "1/1 [==============================] - 0s 41ms/step\n",
      "6/6 [==============================] - 0s 5ms/step\n",
      "1/1 [==============================] - 0s 39ms/step\n",
      "11/11 [==============================] - 0s 6ms/step\n",
      "1/1 [==============================] - 0s 42ms/step\n",
      "6/6 [==============================] - 0s 5ms/step\n",
      "2/2 [==============================] - 0s 6ms/step\n",
      "18/18 [==============================] - 0s 5ms/step\n",
      "1/1 [==============================] - 0s 42ms/step\n",
      "9/9 [==============================] - 0s 5ms/step\n",
      "1/1 [==============================] - 0s 39ms/step\n",
      "5/5 [==============================] - 0s 6ms/step\n",
      "1/1 [==============================] - 0s 40ms/step\n",
      "6/6 [==============================] - 0s 8ms/step\n",
      "1/1 [==============================] - 0s 45ms/step\n",
      "13/13 [==============================] - 0s 6ms/step\n",
      "1/1 [==============================] - 0s 40ms/step\n",
      "14/14 [==============================] - 0s 6ms/step\n",
      "1/1 [==============================] - 0s 43ms/step\n",
      "8/8 [==============================] - 0s 6ms/step\n",
      "1/1 [==============================] - 0s 40ms/step\n",
      "13/13 [==============================] - 0s 6ms/step\n",
      "1/1 [==============================] - 0s 170ms/step\n",
      "6/6 [==============================] - 0s 46ms/step\n",
      "1/1 [==============================] - 0s 63ms/step\n",
      "10/10 [==============================] - 0s 25ms/step\n",
      "1/1 [==============================] - 0s 60ms/step\n",
      "10/10 [==============================] - 0s 9ms/step\n"
     ]
    }
   ],
   "source": [
    "df['processed_text'] = df['review'].apply(preprocess_text)"
   ]
  },
  {
   "cell_type": "code",
   "execution_count": 18,
   "metadata": {},
   "outputs": [
    {
     "data": {
      "text/html": [
       "<div>\n",
       "<style scoped>\n",
       "    .dataframe tbody tr th:only-of-type {\n",
       "        vertical-align: middle;\n",
       "    }\n",
       "\n",
       "    .dataframe tbody tr th {\n",
       "        vertical-align: top;\n",
       "    }\n",
       "\n",
       "    .dataframe thead th {\n",
       "        text-align: right;\n",
       "    }\n",
       "</style>\n",
       "<table border=\"1\" class=\"dataframe\">\n",
       "  <thead>\n",
       "    <tr style=\"text-align: right;\">\n",
       "      <th></th>\n",
       "      <th>review</th>\n",
       "      <th>processed_text</th>\n",
       "    </tr>\n",
       "  </thead>\n",
       "  <tbody>\n",
       "    <tr>\n",
       "      <th>0</th>\n",
       "      <td>Pattaya for eat</td>\n",
       "      <td>[]</td>\n",
       "    </tr>\n",
       "    <tr>\n",
       "      <th>1</th>\n",
       "      <td>ที่นี่ติดชายหาดเลย มีบาร์ให้นั่งกินอาหารมองเห็...</td>\n",
       "      <td>[ติด, ชาย, หาด, บาร์, นั่ง, กิน, อาหาร, วิวทะเ...</td>\n",
       "    </tr>\n",
       "    <tr>\n",
       "      <th>2</th>\n",
       "      <td>E</td>\n",
       "      <td>[]</td>\n",
       "    </tr>\n",
       "    <tr>\n",
       "      <th>3</th>\n",
       "      <td>ที่นี่ถ้า5ทุ่มเป๊ะปิดเลย แถมยามยังมาไล่แบบกินเ...</td>\n",
       "      <td>[ทุ่มเป๊ะ, แถม, ยาม, ไล่, กิน, นั่ง, กิน, หล่ะ...</td>\n",
       "    </tr>\n",
       "    <tr>\n",
       "      <th>4</th>\n",
       "      <td>ตลาดกลางคืน ริมชายหาด สินค้าหลากหลาย</td>\n",
       "      <td>[ตลาด, กลาง, คืน, ริม, ชายหาด, สินค้า, หลากหลาย]</td>\n",
       "    </tr>\n",
       "  </tbody>\n",
       "</table>\n",
       "</div>"
      ],
      "text/plain": [
       "                                              review  \\\n",
       "0                                    Pattaya for eat   \n",
       "1  ที่นี่ติดชายหาดเลย มีบาร์ให้นั่งกินอาหารมองเห็...   \n",
       "2                                                  E   \n",
       "3  ที่นี่ถ้า5ทุ่มเป๊ะปิดเลย แถมยามยังมาไล่แบบกินเ...   \n",
       "4               ตลาดกลางคืน ริมชายหาด สินค้าหลากหลาย   \n",
       "\n",
       "                                      processed_text  \n",
       "0                                                 []  \n",
       "1  [ติด, ชาย, หาด, บาร์, นั่ง, กิน, อาหาร, วิวทะเ...  \n",
       "2                                                 []  \n",
       "3  [ทุ่มเป๊ะ, แถม, ยาม, ไล่, กิน, นั่ง, กิน, หล่ะ...  \n",
       "4   [ตลาด, กลาง, คืน, ริม, ชายหาด, สินค้า, หลากหลาย]  "
      ]
     },
     "execution_count": 18,
     "metadata": {},
     "output_type": "execute_result"
    }
   ],
   "source": [
    "df.head()"
   ]
  },
  {
   "attachments": {},
   "cell_type": "markdown",
   "metadata": {},
   "source": [
    "## export to csv"
   ]
  },
  {
   "cell_type": "code",
   "execution_count": 19,
   "metadata": {},
   "outputs": [],
   "source": [
    "#df.to_csv(\"Jomtien_Beach_Night_Market_Processed.csv\")"
   ]
  }
 ],
 "metadata": {
  "kernelspec": {
   "display_name": "caret",
   "language": "python",
   "name": "python3"
  },
  "language_info": {
   "codemirror_mode": {
    "name": "ipython",
    "version": 3
   },
   "file_extension": ".py",
   "mimetype": "text/x-python",
   "name": "python",
   "nbconvert_exporter": "python",
   "pygments_lexer": "ipython3",
   "version": "3.9.13"
  },
  "orig_nbformat": 4
 },
 "nbformat": 4,
 "nbformat_minor": 2
}
